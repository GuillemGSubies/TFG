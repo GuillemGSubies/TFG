{
 "cells": [
  {
   "cell_type": "code",
   "execution_count": null,
   "metadata": {},
   "outputs": [],
   "source": [
    "import os\n",
    "os.environ[\"CUDA_VISIBLE_DEVICES\"]=\"0\"  # specify which GPU(s) to be used"
   ]
  },
  {
   "cell_type": "code",
   "execution_count": 1,
   "metadata": {},
   "outputs": [
    {
     "name": "stderr",
     "output_type": "stream",
     "text": [
      "Using TensorFlow backend.\n"
     ]
    }
   ],
   "source": [
    "from src.model import BaseNetwork"
   ]
  },
  {
   "cell_type": "code",
   "execution_count": 2,
   "metadata": {},
   "outputs": [],
   "source": [
    "%matplotlib inline"
   ]
  },
  {
   "cell_type": "code",
   "execution_count": null,
   "metadata": {},
   "outputs": [],
   "source": [
    "from keras import backend as K\n",
    "K.tensorflow_backend._get_available_gpus()"
   ]
  },
  {
   "cell_type": "code",
   "execution_count": 3,
   "metadata": {},
   "outputs": [],
   "source": [
    "data = open(\"data/movie_lines.txt\", \"rb\").read()[:1500].decode(\"utf-8\")"
   ]
  },
  {
   "cell_type": "code",
   "execution_count": 4,
   "metadata": {},
   "outputs": [],
   "source": [
    "model = BaseNetwork(max_sequence_len=301, batchsize=32, vocab_size=1000)"
   ]
  },
  {
   "cell_type": "code",
   "execution_count": 5,
   "metadata": {},
   "outputs": [
    {
     "name": "stdout",
     "output_type": "stream",
     "text": [
      "There are a total of 6 training samples\n",
      "There are a total of 2 validation samples\n",
      "CPU times: user 29.4 ms, sys: 293 µs, total: 29.7 ms\n",
      "Wall time: 28.6 ms\n"
     ]
    }
   ],
   "source": [
    "%%time\n",
    "corpus = model.etl(data)"
   ]
  },
  {
   "cell_type": "markdown",
   "metadata": {},
   "source": [
    "### No LSTM net"
   ]
  },
  {
   "cell_type": "code",
   "execution_count": null,
   "metadata": {
    "scrolled": false
   },
   "outputs": [],
   "source": [
    "%%time\n",
    "model.compile(arch=\"Baseline\", embedding=\"\", gpu=True)\n",
    "model.fit(corpus, epochs=100, verbose=1)"
   ]
  },
  {
   "cell_type": "markdown",
   "metadata": {},
   "source": [
    "### LSTM Normal Embedding"
   ]
  },
  {
   "cell_type": "code",
   "execution_count": 6,
   "metadata": {
    "scrolled": true
   },
   "outputs": [
    {
     "name": "stdout",
     "output_type": "stream",
     "text": [
      "_________________________________________________________________\n",
      "Layer (type)                 Output Shape              Param #   \n",
      "=================================================================\n",
      "embedding_1 (Embedding)      (None, 24, 64)            9536      \n",
      "_________________________________________________________________\n",
      "bidirectional_1 (Bidirection (None, 64)                24832     \n",
      "_________________________________________________________________\n",
      "dense_1 (Dense)              (None, 149)               9685      \n",
      "=================================================================\n",
      "Total params: 44,053\n",
      "Trainable params: 44,053\n",
      "Non-trainable params: 0\n",
      "_________________________________________________________________\n",
      "None\n",
      "The model will be saved with the name: Best_model_19:13:58.589203\n",
      "The fit process is starting!\n",
      "Epoch 1/100\n",
      "6/6 [==============================] - 3s 531ms/step - loss: 5.0028 - perplexity_raw: 1.0000 - val_loss: 5.0036 - val_perplexity_raw: 1.0000\n",
      "Epoch 2/100\n",
      "6/6 [==============================] - 0s 69ms/step - loss: 4.9863 - perplexity_raw: 1.0000 - val_loss: 5.0058 - val_perplexity_raw: 1.0000\n",
      "Epoch 3/100\n",
      "6/6 [==============================] - 0s 65ms/step - loss: 4.9670 - perplexity_raw: 1.0000 - val_loss: 5.0120 - val_perplexity_raw: 1.0000\n",
      "Epoch 4/100\n",
      "6/6 [==============================] - 0s 69ms/step - loss: 4.9349 - perplexity_raw: 1.0000 - val_loss: 5.0298 - val_perplexity_raw: 1.0000\n",
      "Epoch 5/100\n",
      "6/6 [==============================] - 0s 67ms/step - loss: 4.8734 - perplexity_raw: 1.0000 - val_loss: 5.0863 - val_perplexity_raw: 1.0000\n",
      "Epoch 6/100\n",
      "6/6 [==============================] - 0s 69ms/step - loss: 4.7648 - perplexity_raw: 1.0000 - val_loss: 5.2468 - val_perplexity_raw: 1.0000\n",
      "\n",
      "Epoch 00006: ReduceLROnPlateau reducing learning rate to 0.000800000037997961.\n",
      "Epoch 7/100\n",
      "6/6 [==============================] - 0s 65ms/step - loss: 4.6518 - perplexity_raw: 1.0000 - val_loss: 5.4637 - val_perplexity_raw: 1.0000\n",
      "Epoch 8/100\n",
      "6/6 [==============================] - 0s 74ms/step - loss: 4.5890 - perplexity_raw: 1.0000 - val_loss: 5.6808 - val_perplexity_raw: 1.0000\n",
      "Epoch 9/100\n",
      "6/6 [==============================] - 0s 74ms/step - loss: 4.5473 - perplexity_raw: 1.0000 - val_loss: 5.8368 - val_perplexity_raw: 1.0000\n",
      "Epoch 10/100\n",
      "6/6 [==============================] - 0s 65ms/step - loss: 4.5118 - perplexity_raw: 1.0000 - val_loss: 5.9340 - val_perplexity_raw: 1.0000\n",
      "Epoch 11/100\n",
      "6/6 [==============================] - 0s 70ms/step - loss: 4.4828 - perplexity_raw: 1.0000 - val_loss: 6.0178 - val_perplexity_raw: 1.0000\n",
      "\n",
      "Epoch 00011: ReduceLROnPlateau reducing learning rate to 0.0006400000303983689.\n",
      "Epoch 00011: early stopping\n"
     ]
    },
    {
     "data": {
      "image/png": "[encoded data removed]",
      "text/plain": [
       "<Figure size 432x288 with 1 Axes>"
      ]
     },
     "metadata": {
      "needs_background": "light"
     },
     "output_type": "display_data"
    },
    {
     "data": {
      "image/png": "[encoded data removed]",
      "text/plain": [
       "<Figure size 432x288 with 1 Axes>"
      ]
     },
     "metadata": {
      "needs_background": "light"
     },
     "output_type": "display_data"
    },
    {
     "name": "stdout",
     "output_type": "stream",
     "text": [
      "CPU times: user 13.6 s, sys: 5.83 s, total: 19.4 s\n",
      "Wall time: 10.2 s\n"
     ]
    }
   ],
   "source": [
    "%%time\n",
    "model.compile(arch=\"LSTM_Embedding\", embedding=\"\", gpu=False, lstm=[32])\n",
    "model.fit(corpus, epochs=100, verbose=1)"
   ]
  },
  {
   "cell_type": "markdown",
   "metadata": {},
   "source": [
    "### LSTM fastText Embedding"
   ]
  },
  {
   "cell_type": "code",
   "execution_count": 6,
   "metadata": {
    "scrolled": true
   },
   "outputs": [
    {
     "name": "stdout",
     "output_type": "stream",
     "text": [
      "Embedding file loaded sucessfully!\n"
     ]
    },
    {
     "name": "stderr",
     "output_type": "stream",
     "text": [
      "/home/guillem/TFG/src/model.py:432: FutureWarning: arrays to stack must be passed as a \"sequence\" type such as list or tuple. Support for non-sequence iterables such as generators is deprecated as of NumPy 1.16 and will raise an error in the future.\n",
      "  all_embs = np.stack(embeddings.values())\n"
     ]
    },
    {
     "name": "stdout",
     "output_type": "stream",
     "text": [
      "_________________________________________________________________\n",
      "Layer (type)                 Output Shape              Param #   \n",
      "=================================================================\n",
      "embedding_1 (Embedding)      (None, 24, 300)           44700     \n",
      "_________________________________________________________________\n",
      "bidirectional_1 (Bidirection (None, 64)                85248     \n",
      "_________________________________________________________________\n",
      "dense_1 (Dense)              (None, 149)               9685      \n",
      "=================================================================\n",
      "Total params: 139,633\n",
      "Trainable params: 94,933\n",
      "Non-trainable params: 44,700\n",
      "_________________________________________________________________\n",
      "None\n",
      "The model will be saved with the name: Best_model_19:15:32.646533\n",
      "The fit process is starting!\n",
      "Epoch 1/100\n",
      "6/6 [==============================] - 3s 503ms/step - loss: 5.0084 - perplexity_raw: 1.0000 - val_loss: 5.0095 - val_perplexity_raw: 1.0000\n",
      "Epoch 2/100\n",
      "6/6 [==============================] - 0s 76ms/step - loss: 4.8998 - perplexity_raw: 1.0000 - val_loss: 5.0590 - val_perplexity_raw: 1.0000\n",
      "Epoch 3/100\n",
      "6/6 [==============================] - 1s 94ms/step - loss: 4.8128 - perplexity_raw: 1.0000 - val_loss: 5.1280 - val_perplexity_raw: 1.0000\n",
      "Epoch 4/100\n",
      "6/6 [==============================] - 0s 75ms/step - loss: 4.7272 - perplexity_raw: 1.0000 - val_loss: 5.2193 - val_perplexity_raw: 1.0000\n",
      "Epoch 5/100\n",
      "6/6 [==============================] - 1s 93ms/step - loss: 4.6451 - perplexity_raw: 1.0000 - val_loss: 5.3311 - val_perplexity_raw: 1.0000\n",
      "Epoch 6/100\n",
      "6/6 [==============================] - 0s 72ms/step - loss: 4.5687 - perplexity_raw: 1.0000 - val_loss: 5.4553 - val_perplexity_raw: 1.0000\n",
      "\n",
      "Epoch 00006: ReduceLROnPlateau reducing learning rate to 0.000800000037997961.\n",
      "Epoch 7/100\n",
      "6/6 [==============================] - 0s 70ms/step - loss: 4.5024 - perplexity_raw: 1.0000 - val_loss: 5.5550 - val_perplexity_raw: 1.0000\n",
      "Epoch 8/100\n",
      "6/6 [==============================] - 0s 72ms/step - loss: 4.4497 - perplexity_raw: 1.0000 - val_loss: 5.6594 - val_perplexity_raw: 1.0000\n",
      "Epoch 9/100\n",
      "6/6 [==============================] - 1s 100ms/step - loss: 4.4000 - perplexity_raw: 1.0000 - val_loss: 5.7629 - val_perplexity_raw: 1.0000\n",
      "Epoch 10/100\n",
      "6/6 [==============================] - 1s 94ms/step - loss: 4.3530 - perplexity_raw: 1.0000 - val_loss: 5.8511 - val_perplexity_raw: 1.0000\n",
      "Epoch 11/100\n",
      "6/6 [==============================] - 1s 94ms/step - loss: 4.3070 - perplexity_raw: 1.0000 - val_loss: 5.9245 - val_perplexity_raw: 1.0000\n",
      "\n",
      "Epoch 00011: ReduceLROnPlateau reducing learning rate to 0.0006400000303983689.\n",
      "Epoch 00011: early stopping\n"
     ]
    },
    {
     "data": {
      "image/png": "[encoded data removed]",
      "text/plain": [
       "<Figure size 432x288 with 1 Axes>"
      ]
     },
     "metadata": {
      "needs_background": "light"
     },
     "output_type": "display_data"
    },
    {
     "data": {
      "image/png": "[encoded data removed]",
      "text/plain": [
       "<Figure size 432x288 with 1 Axes>"
      ]
     },
     "metadata": {
      "needs_background": "light"
     },
     "output_type": "display_data"
    },
    {
     "name": "stdout",
     "output_type": "stream",
     "text": [
      "CPU times: user 40.6 s, sys: 8 s, total: 48.6 s\n",
      "Wall time: 43.7 s\n"
     ]
    }
   ],
   "source": [
    "%%time\n",
    "model.compile(arch=\"LSTM_Embedding\", embedding=\"fastText\", gpu=False, lstm=[32])\n",
    "model.fit(corpus, epochs=100, verbose=1)"
   ]
  },
  {
   "cell_type": "code",
   "execution_count": 8,
   "metadata": {},
   "outputs": [],
   "source": [
    "a = BaseNetwork.load_model(\"Best_model_19:15:32.646533\")"
   ]
  },
  {
   "cell_type": "code",
   "execution_count": 9,
   "metadata": {},
   "outputs": [
    {
     "name": "stdout",
     "output_type": "stream",
     "text": [
      "111\n",
      "127\n",
      "33\n",
      "76\n",
      "117\n"
     ]
    },
    {
     "data": {
      "text/plain": [
       "'Good morning believe is on coiffure looks'"
      ]
     },
     "execution_count": 9,
     "metadata": {},
     "output_type": "execute_result"
    }
   ],
   "source": [
    "a.generate_text(\"Good morning\", 5)"
   ]
  },
  {
   "cell_type": "code",
   "execution_count": 10,
   "metadata": {},
   "outputs": [
    {
     "name": "stdout",
     "output_type": "stream",
     "text": [
      "4\n",
      "20\n",
      "3\n",
      "4\n",
      "20\n"
     ]
    },
    {
     "data": {
      "text/plain": [
       "'Good morning to she you to she'"
      ]
     },
     "execution_count": 10,
     "metadata": {},
     "output_type": "execute_result"
    }
   ],
   "source": [
    "model.generate_text(\"Good morning\", 5)"
   ]
  },
  {
   "cell_type": "code",
   "execution_count": null,
   "metadata": {},
   "outputs": [],
   "source": []
  },
  {
   "cell_type": "code",
   "execution_count": null,
   "metadata": {},
   "outputs": [],
   "source": [
    "model.generate_text(\"Bianca is coming xD\", 200)"
   ]
  },
  {
   "cell_type": "code",
   "execution_count": null,
   "metadata": {},
   "outputs": [],
   "source": [
    "model.generate_text(\"Good morning\", 5)"
   ]
  },
  {
   "cell_type": "code",
   "execution_count": null,
   "metadata": {},
   "outputs": [],
   "source": [
    "model.generate_text(\"John, I'm only dancin'!\", 5)"
   ]
  },
  {
   "cell_type": "code",
   "execution_count": null,
   "metadata": {},
   "outputs": [],
   "source": [
    "model.generate_text(\"hey you\", 10)"
   ]
  },
  {
   "cell_type": "code",
   "execution_count": null,
   "metadata": {},
   "outputs": [],
   "source": [
    "model.generate_text(\"I don't know\", 10)"
   ]
  },
  {
   "cell_type": "code",
   "execution_count": null,
   "metadata": {},
   "outputs": [],
   "source": [
    "model.generate_text(\"Wait\", 10)"
   ]
  },
  {
   "cell_type": "code",
   "execution_count": null,
   "metadata": {},
   "outputs": [],
   "source": [
    "model.generate_text(\"Hasta la vista\", 20)"
   ]
  },
  {
   "cell_type": "code",
   "execution_count": null,
   "metadata": {},
   "outputs": [],
   "source": [
    "model.generate_text(\"Baby\", 20)"
   ]
  },
  {
   "cell_type": "code",
   "execution_count": null,
   "metadata": {},
   "outputs": [],
   "source": [
    "model.generate_text(\"Brother\", 20)"
   ]
  },
  {
   "cell_type": "code",
   "execution_count": null,
   "metadata": {},
   "outputs": [],
   "source": [
    "model.generate_text(\"Bro\", 20)"
   ]
  },
  {
   "cell_type": "code",
   "execution_count": null,
   "metadata": {},
   "outputs": [],
   "source": [
    "model.generate_text(\"I will not go to prison\", 20)"
   ]
  },
  {
   "cell_type": "markdown",
   "metadata": {},
   "source": [
    "Dudas:\n",
    "- Perplexity usando: https://www.tensorflow.org/api_docs/python/tf/nn/softmax_cross_entropy_with_logits Me afecta el warning?\n",
    "- Epocas, batchsize, neuronas y capas, tamaño embedding (si usas fasttext est ultimo da iwa). max_sequence_len vocab_size??"
   ]
  }
 ],
 "metadata": {
  "kernelspec": {
   "display_name": "Python 3",
   "language": "python",
   "name": "python3"
  },
  "language_info": {
   "codemirror_mode": {
    "name": "ipython",
    "version": 3
   },
   "file_extension": ".py",
   "mimetype": "text/x-python",
   "name": "python",
   "nbconvert_exporter": "python",
   "pygments_lexer": "ipython3",
   "version": "3.6.8"
  }
 },
 "nbformat": 4,
 "nbformat_minor": 2
}
