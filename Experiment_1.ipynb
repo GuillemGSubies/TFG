{
 "cells": [
  {
   "cell_type": "markdown",
   "metadata": {},
   "source": [
    "## EXPERIMENTO 1\n",
    "\n",
    "* Métrica Perplejidad: https://en.wikipedia.org/wiki/Perplexity#cite_ref-1\n",
    "\n",
    "* Loss: Categorical Crossentropy (buscar más referencias para ambos)\n",
    "\n",
    "Para la memoria usar notebook como info basica e ir ampliando explicaciones"
   ]
  },
  {
   "cell_type": "markdown",
   "metadata": {},
   "source": [
    "### Corpus"
   ]
  },
  {
   "cell_type": "markdown",
   "metadata": {},
   "source": [
    "@InProceedings{Danescu-Niculescu-Mizil+Lee:11a,\n",
    "\n",
    "  author={Cristian Danescu-Niculescu-Mizil and Lillian Lee},\n",
    "\n",
    "  title={Chameleons in imagined conversations:\n",
    "\n",
    "  A new approach to understanding coordination of linguistic style in dialogs.},\n",
    "\n",
    "  booktitle={Proceedings of the\n",
    "\n",
    "        Workshop on Cognitive Modeling and Computational Linguistics, ACL 2011},\n",
    "\n",
    "  year={2011}\n",
    "\n",
    "}"
   ]
  },
  {
   "cell_type": "code",
   "execution_count": 1,
   "metadata": {
    "collapsed": true
   },
   "outputs": [],
   "source": [
    "import os\n",
    "os.environ[\"CUDA_VISIBLE_DEVICES\"]=\"3,2\"  # specify which GPU(s) to be used"
   ]
  },
  {
   "cell_type": "code",
   "execution_count": 1,
   "metadata": {},
   "outputs": [
    {
     "name": "stderr",
     "output_type": "stream",
     "text": [
      "Using TensorFlow backend.\n"
     ]
    }
   ],
   "source": [
    "from src.model import BaseNetwork\n",
    "from src.utils import print_shapes"
   ]
  },
  {
   "cell_type": "code",
   "execution_count": 3,
   "metadata": {},
   "outputs": [
    {
     "data": {
      "text/plain": [
       "['/job:localhost/replica:0/task:0/device:GPU:0',\n",
       " '/job:localhost/replica:0/task:0/device:GPU:1']"
      ]
     },
     "execution_count": 3,
     "metadata": {},
     "output_type": "execute_result"
    }
   ],
   "source": [
    "from keras import backend as K\n",
    "K.tensorflow_backend._get_available_gpus()"
   ]
  },
  {
   "cell_type": "code",
   "execution_count": 2,
   "metadata": {},
   "outputs": [],
   "source": [
    "data = open(\"data/movie_lines.txt\", \"rb\").read()[:100_000].decode(\"utf-8\") "
   ]
  },
  {
   "cell_type": "code",
   "execution_count": 3,
   "metadata": {},
   "outputs": [
    {
     "name": "stdout",
     "output_type": "stream",
     "text": [
      "Shape of X_train: (12389, 124)\n",
      "Shape of X_test: (4129, 124)\n",
      "Shape of y_train: (12389, 2690)\n",
      "Shape of y_test: (4129, 2690)\n"
     ]
    }
   ],
   "source": [
    "model = BaseNetwork(max_sequence_len=301)\n",
    "X_train, X_test, y_train, y_test = model.etl(data)\n",
    "print_shapes(X_train, X_test, y_train, y_test)"
   ]
  },
  {
   "cell_type": "code",
   "execution_count": 4,
   "metadata": {
    "collapsed": true
   },
   "outputs": [],
   "source": [
    "# subir lstm_units, epochs 100\n",
    "# TODO: En la etl en vez de hacer lower y ya, usar spacy"
   ]
  },
  {
   "cell_type": "code",
   "execution_count": null,
   "metadata": {
    "scrolled": true
   },
   "outputs": [],
   "source": [
    "model.compile(arch=\"LSTM_Embedding\", embedding=\"fastText\", gpu=True, hidden_lstm=0, lstm_units=32)\n",
    "model.fit(X_train, X_test, y_train, y_test, epochs=100, batch_size=32, verbose=1)"
   ]
  },
  {
   "cell_type": "code",
   "execution_count": null,
   "metadata": {
    "collapsed": true
   },
   "outputs": [],
   "source": []
  },
  {
   "cell_type": "code",
   "execution_count": null,
   "metadata": {
    "collapsed": true
   },
   "outputs": [],
   "source": []
  },
  {
   "cell_type": "code",
   "execution_count": null,
   "metadata": {
    "collapsed": true
   },
   "outputs": [],
   "source": []
  },
  {
   "cell_type": "code",
   "execution_count": null,
   "metadata": {
    "collapsed": true
   },
   "outputs": [],
   "source": []
  },
  {
   "cell_type": "code",
   "execution_count": null,
   "metadata": {
    "collapsed": true
   },
   "outputs": [],
   "source": []
  },
  {
   "cell_type": "code",
   "execution_count": null,
   "metadata": {
    "collapsed": true
   },
   "outputs": [],
   "source": []
  },
  {
   "cell_type": "code",
   "execution_count": null,
   "metadata": {
    "collapsed": true
   },
   "outputs": [],
   "source": []
  },
  {
   "cell_type": "code",
   "execution_count": 20,
   "metadata": {},
   "outputs": [
    {
     "data": {
      "text/plain": [
       "\"Bianca is coming xD nbianca well nbianca okay i 'd like to get ncameron i 'd like to get out of living here ncameron just do the matter where 'd your friend ncameron no nbianca i 'm workin ' ncameron she had to get out of date ncameron no no i had to go to the ncameron she 'd like to see a job ncameron she 'd nbianca what the matter is that my coiffure nbianca blonde your f friend of this crap ncameron you know nbianca i 'll go out to the ncameron i 'm not nbianca well i 'm here nbianca i 'll get out of living here nbianca no i 'll give it a woman she seemed to go nbianca well i think i 'll get to lie now i 'll go out of a few years nbianca thank you think nbianca ncameron she 'd ncameron what ncameron she 'd ncameron a man ncameron how 's the matter ncameron i 'm workin ' ncameron i 'd like to go out on my career now nbianca what do you think nbianca i 'm not nbianca well i had a pretty good message to get out there i 'll go to your fear\""
      ]
     },
     "execution_count": 20,
     "metadata": {},
     "output_type": "execute_result"
    }
   ],
   "source": [
    "model.generate_text(\"Bianca is coming xD\", 200)"
   ]
  },
  {
   "cell_type": "code",
   "execution_count": 21,
   "metadata": {},
   "outputs": [
    {
     "data": {
      "text/plain": [
       "'Good morning nbianca not even wonder nbianca'"
      ]
     },
     "execution_count": 21,
     "metadata": {},
     "output_type": "execute_result"
    }
   ],
   "source": [
    "model.generate_text(\"Good morning\", 5)"
   ]
  },
  {
   "cell_type": "code",
   "execution_count": 22,
   "metadata": {},
   "outputs": [
    {
     "data": {
      "text/plain": [
       "'nbianca good morning did you wonder nbianca she'"
      ]
     },
     "execution_count": 22,
     "metadata": {},
     "output_type": "execute_result"
    }
   ],
   "source": [
    "model.generate_text(\"nbianca good morning\", 5)"
   ]
  },
  {
   "cell_type": "code",
   "execution_count": 23,
   "metadata": {},
   "outputs": [
    {
     "data": {
      "text/plain": [
       "\"John, I'm only dancin'! one know what the death\""
      ]
     },
     "execution_count": 23,
     "metadata": {},
     "output_type": "execute_result"
    }
   ],
   "source": [
    "model.generate_text(\"John, I'm only dancin'!\", 5)"
   ]
  },
  {
   "cell_type": "code",
   "execution_count": 24,
   "metadata": {},
   "outputs": [
    {
     "data": {
      "text/plain": [
       "\"hey you gonna pay to steal what i 'll quit the tour\""
      ]
     },
     "execution_count": 24,
     "metadata": {},
     "output_type": "execute_result"
    }
   ],
   "source": [
    "model.generate_text(\"hey you\", 10)"
   ]
  },
  {
   "cell_type": "code",
   "execution_count": 25,
   "metadata": {},
   "outputs": [
    {
     "data": {
      "text/plain": [
       "\"I dont' know nbianca let 's go nbianca nbianca what 's matter '\""
      ]
     },
     "execution_count": 25,
     "metadata": {},
     "output_type": "execute_result"
    }
   ],
   "source": [
    "model.generate_text(\"I dont' know\", 10)"
   ]
  },
  {
   "cell_type": "code",
   "execution_count": 26,
   "metadata": {},
   "outputs": [
    {
     "data": {
      "text/plain": [
       "'Wait where the boys the need one one of a death'"
      ]
     },
     "execution_count": 26,
     "metadata": {},
     "output_type": "execute_result"
    }
   ],
   "source": [
    "model.generate_text(\"Wait\", 10)"
   ]
  },
  {
   "cell_type": "code",
   "execution_count": null,
   "metadata": {
    "collapsed": true
   },
   "outputs": [],
   "source": []
  },
  {
   "cell_type": "code",
   "execution_count": null,
   "metadata": {
    "collapsed": true
   },
   "outputs": [],
   "source": []
  }
 ],
 "metadata": {
  "kernelspec": {
   "display_name": "Python 3",
   "language": "python",
   "name": "python3"
  },
  "language_info": {
   "codemirror_mode": {
    "name": "ipython",
    "version": 3
   },
   "file_extension": ".py",
   "mimetype": "text/x-python",
   "name": "python",
   "nbconvert_exporter": "python",
   "pygments_lexer": "ipython3",
   "version": "3.6.7"
  }
 },
 "nbformat": 4,
 "nbformat_minor": 2
}
